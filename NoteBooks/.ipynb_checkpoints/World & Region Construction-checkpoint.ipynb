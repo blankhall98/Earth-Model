{
 "cells": [
  {
   "cell_type": "markdown",
   "metadata": {},
   "source": [
    "# World & Region Construction"
   ]
  },
  {
   "cell_type": "markdown",
   "metadata": {},
   "source": [
    "### Idea behind the code\n",
    "\n",
    "The idea behing the $\\textit{World}$ and $\\textit{Region}$ modules is to model these geo-economical zones by loading their most important socio-economical indicator's time series."
   ]
  },
  {
   "cell_type": "markdown",
   "metadata": {},
   "source": [
    "### Libraries"
   ]
  },
  {
   "cell_type": "code",
   "execution_count": 1,
   "metadata": {},
   "outputs": [],
   "source": [
    "import pandas as pd\n",
    "import numpy as np\n",
    "import matplotlib.pyplot as plt\n",
    "import seaborn as sns\n",
    "from scipy.optimize import curve_fit"
   ]
  },
  {
   "cell_type": "markdown",
   "metadata": {},
   "source": [
    "### Region"
   ]
  },
  {
   "cell_type": "code",
   "execution_count": 68,
   "metadata": {},
   "outputs": [],
   "source": [
    "class Region:\n",
    "    \n",
    "    def __init__(self,inputs):\n",
    "        self.inputs = inputs\n",
    "        \n",
    "        self.region = inputs['region']\n",
    "        self.GDP = inputs['GDP']\n",
    "        self.SDG = inputs['SDG']\n",
    "        self.population = inputs['population']\n",
    "        \n",
    "    #GRAPHICS -----\n",
    "    \n",
    "    def graph_population(self):\n",
    "        \n",
    "        plt.figure(figsize = (10,6))\n",
    "\n",
    "        plt.title(f'Total Population: {self.region}')\n",
    "        plt.xlabel('Year')\n",
    "        plt.ylabel('Total Population (Millions)')\n",
    "            \n",
    "        plt.plot(self.inputs['historical_years'],self.population[self.inputs['historical_years']].values[0],'bo--',label='Historical Values')\n",
    "        plt.plot(self.inputs['prediction_years'],self.population[self.inputs['prediction_years']].values[0],'go--',label='Prediction Values')\n",
    "    \n",
    "        plt.legend()\n",
    "        plt.show()\n",
    "        \n",
    "    def graph_gdp(self):\n",
    "        \n",
    "        plt.figure(figsize = (10,6))\n",
    "\n",
    "        plt.title(f'Gross Domestic Product: {self.region}')\n",
    "        plt.xlabel('Year')\n",
    "        plt.ylabel('GDP')\n",
    "            \n",
    "        plt.plot(self.inputs['historical_years'],self.GDP[self.inputs['historical_years']].values[0],'bo--',label='Historical Values')\n",
    "        plt.plot(self.inputs['prediction_years'],self.GDP[self.inputs['prediction_years']].values[0],'go--',label='Prediction Values')\n",
    "    \n",
    "        plt.legend()\n",
    "        plt.show()\n",
    "        \n",
    "    def graph_sdg(self,sdg,historical=True):\n",
    "        \n",
    "        if historical:\n",
    "            \n",
    "            plt.figure(figsize = (10,6))\n",
    "            \n",
    "            \n",
    "            plt.show()"
   ]
  },
  {
   "cell_type": "markdown",
   "metadata": {},
   "source": [
    "### World"
   ]
  },
  {
   "cell_type": "code",
   "execution_count": 55,
   "metadata": {},
   "outputs": [],
   "source": [
    "class World:\n",
    "    \n",
    "    def __init__(self,regions,inputs):\n",
    "        \n",
    "        #load parameters\n",
    "        self.regions = regions\n",
    "        self.inputs = inputs\n",
    "        self.years = inputs['historical_years'] + inputs['prediction_years']\n",
    "        \n",
    "        #read raw data\n",
    "        self.read_population()\n",
    "        self.read_GDP()\n",
    "        self.read_SDG()\n",
    "        \n",
    "        #create regions\n",
    "        self.create_regions()\n",
    "        \n",
    "    ### READ RAW DATA SECTION -----\n",
    "    def read_population(self):\n",
    "        self.population = pd.read_csv(self.inputs['route']+self.inputs['population'])\n",
    "        \n",
    "    def read_GDP(self):\n",
    "        self.GDP = pd.read_csv(self.inputs['route']+self.inputs['GDP'])\n",
    "        \n",
    "    def read_SDG(self):\n",
    "        self.SDG = pd.read_csv(self.inputs['route']+self.inputs['SDG'])\n",
    "        \n",
    "    ### CREATE REGIONS SECTION -----\n",
    "    def region_population(self,region_name):\n",
    "        pop = self.population[self.population['Region'] == region_name].reset_index(drop=True)\n",
    "        pop = pop[self.years]\n",
    "        return pop\n",
    "    \n",
    "    def region_GDP(self,region_name):\n",
    "        gdp = self.GDP[self.GDP['Region'] == region_name].reset_index(drop=True)\n",
    "        gdp = gdp[self.years]\n",
    "        return gdp\n",
    "    \n",
    "    def region_SDG(self,region_name):\n",
    "        sdg = self.SDG[self.SDG['Region'] == region_name].reset_index(drop=True)\n",
    "        sdg = sdg[self.years+['SDG']]\n",
    "        sdg['SDG'] = sdg['SDG'].astype('int')\n",
    "        sdg = sdg.set_index('SDG')\n",
    "        return sdg\n",
    "    \n",
    "    def create_regions(self):\n",
    "        \n",
    "        for region in self.regions.values():\n",
    "            region_name = region['region']\n",
    "            region_abreviation = region['abreviation']\n",
    "            \n",
    "            #subset of regional information\n",
    "            region_population = self.region_population(region_name)\n",
    "            region_GDP = self.region_GDP(region_name)\n",
    "            region_SDG = self.region_SDG(region_name)\n",
    "            \n",
    "            #add values to region dictionary\n",
    "            region['population'] = region_population\n",
    "            region['GDP'] = region_GDP\n",
    "            region['SDG'] = region_SDG\n",
    "            region['historical_years'] = self.inputs['historical_years']\n",
    "            region['prediction_years'] = self.inputs['prediction_years']\n",
    "            region['total_years'] = self.years\n",
    "            \n",
    "            #region initialization\n",
    "            region['instance'] = Region(region)"
   ]
  },
  {
   "cell_type": "markdown",
   "metadata": {},
   "source": [
    "World inputs used in E3 model:"
   ]
  },
  {
   "cell_type": "code",
   "execution_count": 39,
   "metadata": {},
   "outputs": [],
   "source": [
    "world_regions = {\n",
    "    \n",
    "    'region1': {\n",
    "        'region': 'United States',\n",
    "        'abreviation': 'USA',\n",
    "        'members': [],\n",
    "    },\n",
    "    \n",
    "    'region2': {\n",
    "        'region': 'Other Rich Countries',\n",
    "        'abreviation': 'ORC',\n",
    "        'members': []\n",
    "    },\n",
    "    \n",
    "    'region3': {\n",
    "        'region': 'Emerging Economies',\n",
    "        'abreviation': 'EE',\n",
    "        'members': []\n",
    "    },\n",
    "    \n",
    "    'region4': {\n",
    "        'region': 'China',\n",
    "        'abreviation': 'China',\n",
    "        'members': []\n",
    "    },\n",
    "    \n",
    "    'region5': {\n",
    "        'region': 'Indian Subcontinent',\n",
    "        'abreviation': 'India',\n",
    "        'members': []\n",
    "    },\n",
    "    \n",
    "    'region6': {\n",
    "        'region': 'Africa South of Sahara',\n",
    "        'abreviation': 'ASoS',\n",
    "        'members': []\n",
    "    },\n",
    "    \n",
    "    'region7': {\n",
    "        'region': 'Rest of World',\n",
    "        'abreviation': 'RoW',\n",
    "        'members': []\n",
    "    }\n",
    "    \n",
    "}"
   ]
  },
  {
   "cell_type": "markdown",
   "metadata": {},
   "source": [
    "INPUTS to access data"
   ]
  },
  {
   "cell_type": "code",
   "execution_count": 40,
   "metadata": {},
   "outputs": [],
   "source": [
    "world_inputs = {\n",
    "    'route': '../raw_data/',\n",
    "    'population': 'Population.csv',\n",
    "    'GDP': 'GDPpp.csv',\n",
    "    'SDG': 'SDG1-7.csv',\n",
    "    'historical_years': ['1980','1985','1990','1995','2000','2005','2010','2015'],\n",
    "    'prediction_years': ['2020','2025','2030','2035','2040','2045','2050']\n",
    "}"
   ]
  },
  {
   "cell_type": "markdown",
   "metadata": {},
   "source": [
    "### APP"
   ]
  },
  {
   "cell_type": "code",
   "execution_count": 69,
   "metadata": {},
   "outputs": [
    {
     "data": {
      "image/png": "[encoded data removed]",
      "text/plain": [
       "<Figure size 720x432 with 1 Axes>"
      ]
     },
     "metadata": {
      "needs_background": "light"
     },
     "output_type": "display_data"
    },
    {
     "data": {
      "image/png": "[encoded data removed]",
      "text/plain": [
       "<Figure size 720x432 with 1 Axes>"
      ]
     },
     "metadata": {
      "needs_background": "light"
     },
     "output_type": "display_data"
    }
   ],
   "source": [
    "world = World(world_regions,world_inputs)\n",
    "\n",
    "world.regions['region6']['instance'].graph_population()\n",
    "\n",
    "world.regions['region6']['instance'].graph_gdp()"
   ]
  },
  {
   "cell_type": "code",
   "execution_count": 48,
   "metadata": {},
   "outputs": [],
   "source": [
    "#world.population"
   ]
  },
  {
   "cell_type": "code",
   "execution_count": 49,
   "metadata": {},
   "outputs": [],
   "source": [
    "#world.GDP"
   ]
  },
  {
   "cell_type": "code",
   "execution_count": 50,
   "metadata": {},
   "outputs": [],
   "source": [
    "#world.SDG"
   ]
  },
  {
   "cell_type": "code",
   "execution_count": 51,
   "metadata": {},
   "outputs": [],
   "source": [
    "#world.regions['region1']['population']"
   ]
  },
  {
   "cell_type": "code",
   "execution_count": 52,
   "metadata": {},
   "outputs": [],
   "source": [
    "#world.regions['region1']['SDG']"
   ]
  }
 ],
 "metadata": {
  "kernelspec": {
   "display_name": "Python 3",
   "language": "python",
   "name": "python3"
  },
  "language_info": {
   "codemirror_mode": {
    "name": "ipython",
    "version": 3
   },
   "file_extension": ".py",
   "mimetype": "text/x-python",
   "name": "python",
   "nbconvert_exporter": "python",
   "pygments_lexer": "ipython3",
   "version": "3.8.5"
  }
 },
 "nbformat": 4,
 "nbformat_minor": 4
}
