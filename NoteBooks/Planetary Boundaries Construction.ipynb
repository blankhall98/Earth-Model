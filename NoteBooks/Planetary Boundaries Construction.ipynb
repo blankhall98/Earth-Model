{
 "cells": [
  {
   "cell_type": "markdown",
   "metadata": {},
   "source": [
    "# Planetary Boundaries Construction"
   ]
  },
  {
   "cell_type": "markdown",
   "metadata": {},
   "source": [
    "### Libraries"
   ]
  },
  {
   "cell_type": "code",
   "execution_count": 1,
   "metadata": {},
   "outputs": [],
   "source": [
    "import pandas as pd\n",
    "import numpy as np\n",
    "import matplotlib.pyplot as plt\n",
    "import seaborn as sns"
   ]
  },
  {
   "cell_type": "markdown",
   "metadata": {},
   "source": [
    "### Planetary Boundaries"
   ]
  },
  {
   "cell_type": "code",
   "execution_count": 8,
   "metadata": {},
   "outputs": [],
   "source": [
    "class PB:\n",
    "    \n",
    "    def __init__(self,boundaries):\n",
    "        self.boundaries = boundaries"
   ]
  },
  {
   "cell_type": "markdown",
   "metadata": {},
   "source": [
    "Planetary Boundaries inputs"
   ]
  },
  {
   "cell_type": "code",
   "execution_count": 15,
   "metadata": {},
   "outputs": [],
   "source": [
    "planetary_boundaries = {\n",
    "    \n",
    "    'pb1': {\n",
    "        'boundary': 'Global warming',\n",
    "        'indicator': 'Temperature rise',\n",
    "        'units': 'deg C above 1850',\n",
    "        'safe-zone': 1,\n",
    "        'high-risk': 2,\n",
    "        'risk direction': '>'\n",
    "    },\n",
    "    \n",
    "    'pb2': {\n",
    "        'boundary': 'Ozone depletion',\n",
    "        'indicator': 'Montreal-gas emissions',\n",
    "        'units': 'Mt/y',\n",
    "        'safe-zone': 0.25,\n",
    "        'high-risk': 2,\n",
    "        'risk direction': '>'\n",
    "    },\n",
    "    \n",
    "    'pb3': {\n",
    "        'boundary': 'Ocean acidification',\n",
    "        'indicator': 'Acidity of ocean surface water',\n",
    "        'units': 'pH',\n",
    "        'safe-zone': 8.15,\n",
    "        'high-risk': 8.1,\n",
    "        'risk direction': '<'\n",
    "    },\n",
    "    \n",
    "    'pb4': {\n",
    "        'boundary': 'Forest degradation',\n",
    "        'indicator': 'Old-growth forest area',\n",
    "        'units': 'Mkm2',\n",
    "        'safe-zone': 25,\n",
    "        'high-risk': 17,\n",
    "        'risk direction': '<'\n",
    "    },\n",
    "    \n",
    "    'pb5': {\n",
    "        'boundary': 'Nutrient overloading',\n",
    "        'indicator': 'Release of bioactive nitrogen',\n",
    "        'units': 'Mt/y',\n",
    "        'safe-zone': 100,\n",
    "        'high-risk': 200,\n",
    "        'risk direction': '>'\n",
    "    },\n",
    "    \n",
    "    'pb6': {\n",
    "        'boundary': 'Freshwater overuse',\n",
    "        'indicator': 'Freshwater withdrawal',\n",
    "        'units': 'km3/y',\n",
    "        'safe-zone': 3000,\n",
    "        'high-risk': 4000,\n",
    "        'risk direction': '>'\n",
    "    },\n",
    "    \n",
    "    'pb7': {\n",
    "        'boundary': 'Biodiversity loss',\n",
    "        'indicator': 'Unused biocapacity',\n",
    "        'units': '% of biocapacity',\n",
    "        'safe-zone': 25,\n",
    "        'high-risk': 18,\n",
    "        'risk direction': '<'\n",
    "    },\n",
    "    \n",
    "    'pb8': {\n",
    "        'boundary': 'Air pollution',\n",
    "        'indicator': 'Urban aerosol concentration',\n",
    "        'units': 'mg 2.5M/m3',\n",
    "        'safe-zone': 10,\n",
    "        'high-risk': 35,\n",
    "        'risk direction': '>'\n",
    "    },\n",
    "    \n",
    "    'pb9': {\n",
    "        'boundary': 'Toxics contamination',\n",
    "        'indicator': 'Release of lead',\n",
    "        'units': 'Mt/y',\n",
    "        'safe-zone': 5,\n",
    "        'high-risk': 10,\n",
    "        'risk direction': '>'\n",
    "    }\n",
    "}"
   ]
  },
  {
   "cell_type": "markdown",
   "metadata": {},
   "source": [
    "### APP"
   ]
  },
  {
   "cell_type": "code",
   "execution_count": 14,
   "metadata": {},
   "outputs": [
    {
     "name": "stdout",
     "output_type": "stream",
     "text": [
      "          boundary               indicator             units  safe-zone  \\\n",
      "0   Global warming        Temperature rise  deg C above 1850       1.00   \n",
      "1  Ozone depletion  Montreal-gas emissions              Mt/y       0.25   \n",
      "\n",
      "   high-risk risk direction  \n",
      "0          2              >  \n",
      "1          2              >  \n"
     ]
    }
   ],
   "source": [
    "def main():\n",
    "    pb = PB(planetary_boundaries)\n",
    "    \n",
    "    db = pd.DataFrame(pb.boundaries.values())\n",
    "    print(db)\n",
    "    \n",
    "if __name__ == '__main__':\n",
    "    main()"
   ]
  }
 ],
 "metadata": {
  "kernelspec": {
   "display_name": "Python 3",
   "language": "python",
   "name": "python3"
  },
  "language_info": {
   "codemirror_mode": {
    "name": "ipython",
    "version": 3
   },
   "file_extension": ".py",
   "mimetype": "text/x-python",
   "name": "python",
   "nbconvert_exporter": "python",
   "pygments_lexer": "ipython3",
   "version": "3.8.5"
  }
 },
 "nbformat": 4,
 "nbformat_minor": 4
}
