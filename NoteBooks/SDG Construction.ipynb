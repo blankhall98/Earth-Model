{
 "cells": [
  {
   "cell_type": "markdown",
   "metadata": {},
   "source": [
    "# SDG Construction"
   ]
  },
  {
   "cell_type": "markdown",
   "metadata": {},
   "source": [
    "### Libraries"
   ]
  },
  {
   "cell_type": "code",
   "execution_count": 18,
   "metadata": {},
   "outputs": [],
   "source": [
    "import pandas as pd\n",
    "import numpy as np\n",
    "import matplotlib.pyplot as plt\n",
    "import seaborn as sns"
   ]
  },
  {
   "cell_type": "markdown",
   "metadata": {},
   "source": [
    "### SDG"
   ]
  },
  {
   "cell_type": "code",
   "execution_count": 7,
   "metadata": {},
   "outputs": [],
   "source": [
    "class SDG:\n",
    "    \n",
    "    def __init__(self,goals):\n",
    "        self.goals = goals"
   ]
  },
  {
   "cell_type": "markdown",
   "metadata": {},
   "source": [
    "SDG inputs"
   ]
  },
  {
   "cell_type": "code",
   "execution_count": 12,
   "metadata": {},
   "outputs": [],
   "source": [
    "sdg_goals = {\n",
    "    \n",
    "    'goal1': {\n",
    "        'goal': 'No poverty',\n",
    "        'indicator': 'Fraction of population living below 1.90$ per day (%)',\n",
    "        'units': '%',\n",
    "        'green-yellow': 2,\n",
    "        'yellow-red': 13,\n",
    "        'direction of progress': '<'\n",
    "    },\n",
    "    \n",
    "    'goal2': {\n",
    "        'goal': 'Zero hunger',\n",
    "        'indicator': 'Fraction of population undernourished (%)',\n",
    "        'units': '%',\n",
    "        'green-yellow': 7,\n",
    "        'yellow-red': 15,\n",
    "        'direction of progress': '<'\n",
    "    },\n",
    "    \n",
    "    'goal3': {\n",
    "        'goal': 'Good health',\n",
    "        'indicator': 'Life expectancy at birth (years)',\n",
    "        'units': 'years',\n",
    "        'green-yellow': 75,\n",
    "        'yellow-red': 70,\n",
    "        'direction of progress': '>'\n",
    "    },\n",
    "    \n",
    "    'goal4': {\n",
    "        'goal': 'Quality education',\n",
    "        'indicator': 'School life expectancy (years)',\n",
    "        'units': 'years',\n",
    "        'green-yellow': 12,\n",
    "        'yellow-red': 10,\n",
    "        'direction of progress': '>'\n",
    "    },\n",
    "    \n",
    "    'goal5': {\n",
    "        'goal': 'Gender equality',\n",
    "        'indicator': 'Gender parity in schooling',\n",
    "        'units': '1',\n",
    "        'green-yellow': 0.95,\n",
    "        'yellow-red': 0.8,\n",
    "        'direction of progress': '>'\n",
    "    },\n",
    "    \n",
    "    'goal6': {\n",
    "        'goal': 'Safe water',\n",
    "        'indicator': 'Fraction of population with access to safe water (%)',\n",
    "        'units': '%',\n",
    "        'green-yellow': 98,\n",
    "        'yellow-red': 80,\n",
    "        'direction of progress': '>'\n",
    "    },\n",
    "    \n",
    "    'goal7': {\n",
    "        'goal': 'Enough energy',\n",
    "        'indicator': 'Fraction of population with access to electricity (%)',\n",
    "        'units': '%',\n",
    "        'green-yellow': 98,\n",
    "        'yellow-red': 80,\n",
    "        'direction of progress': '>'\n",
    "    },\n",
    "    \n",
    "    'goal8': {\n",
    "        'goal': 'Decent jobs',\n",
    "        'indicator': 'Job market growth (%/y)',\n",
    "        'units': '%/y',\n",
    "        'green-yellow': 1,\n",
    "        'yellow-red': 0,\n",
    "        'direction of progress': '>'\n",
    "    },\n",
    "    \n",
    "    'goal9': {\n",
    "        'goal': 'Industrial output',\n",
    "        'indicator': 'GDP per person in manufacturing & construction (2011 PPP US$/p-y)',\n",
    "        'units': '2011 PPP US$/p-y',\n",
    "        'green-yellow': 6000,\n",
    "        'yellow-red': 4000,\n",
    "        'direction of progress': '>'\n",
    "    },\n",
    "    \n",
    "    'goal10': {\n",
    "        'goal': 'Reduced inequality',\n",
    "        'indicator': 'Share of national income to richest 10% (%)',\n",
    "        'units': '%',\n",
    "        'green-yellow': 40,\n",
    "        'yellow-red': 50,\n",
    "        'direction of progress': '<'\n",
    "    },\n",
    "    \n",
    "    'goal11': {\n",
    "        'goal': 'Clean cities',\n",
    "        'indicator': 'Urban aerosol concentration (mg 2.5M/m3)',\n",
    "        'units': 'mg 2.5M/m3',\n",
    "        'green-yellow': 10,\n",
    "        'yellow-red': 35,\n",
    "        'direction of progress': '<'\n",
    "    },\n",
    "    \n",
    "    'goal12': {\n",
    "        'goal': 'Responsible consumption',\n",
    "        'indicator': 'Ecological footprint per person (gha/p)',\n",
    "        'units': 'gha/p',\n",
    "        'green-yellow': 1.4,\n",
    "        'yellow-red': 2,\n",
    "        'direction of progress': '<'\n",
    "    },\n",
    "    \n",
    "    'goal13': {\n",
    "        'goal': 'Climate action',\n",
    "        'indicator': 'Temperature rise (deg C above 1850)',\n",
    "        'units': 'deg C above 1850',\n",
    "        'green-yellow': 1,\n",
    "        'yellow-red': 1.5,\n",
    "        'direction of progress': '<'\n",
    "    },\n",
    "    \n",
    "    'goal14': {\n",
    "        'goal': 'Life below water',\n",
    "        'indicator': 'Acidity of ocean surface water (pH)',\n",
    "        'units': 'pH',\n",
    "        'green-yellow': 8.15,\n",
    "        'yellow-red': 8.1,\n",
    "        'direction of progress': '>'\n",
    "    },\n",
    "    \n",
    "    'goal15': {\n",
    "        'goal': 'Life on land',\n",
    "        'indicator': 'Old-growth-forest area (Mkm2)',\n",
    "        'units': 'Mkm2',\n",
    "        'green-yellow': 25,\n",
    "        'yellow-red': 19,\n",
    "        'direction of progress': '>'\n",
    "    },\n",
    "    \n",
    "    'goal16': {\n",
    "        'goal': 'Good governance',\n",
    "        'indicator': 'Government spending per person (2011 PPP US$/p-y)',\n",
    "        'units': '2011 PPP US$/p-y',\n",
    "        'green-yellow': 3000,\n",
    "        'yellow-red': 2000,\n",
    "        'direction of progress': '>'\n",
    "    },\n",
    "    \n",
    "    'goal17': {\n",
    "        'goal': 'More partnership',\n",
    "        'indicator': 'Exports as a fraction of GDP (%)',\n",
    "        'units': '%',\n",
    "        'green-yellow': 15,\n",
    "        'yellow-red': 10,\n",
    "        'direction of progress': '>'\n",
    "    }\n",
    "}"
   ]
  },
  {
   "cell_type": "markdown",
   "metadata": {},
   "source": [
    "### APP"
   ]
  },
  {
   "cell_type": "code",
   "execution_count": 21,
   "metadata": {},
   "outputs": [
    {
     "name": "stdout",
     "output_type": "stream",
     "text": [
      "Index(['goal', 'indicator', 'units', 'green-yellow', 'yellow-red',\n",
      "       'direction of progress'],\n",
      "      dtype='object')\n"
     ]
    }
   ],
   "source": [
    "def main():\n",
    "    sdg = SDG(sdg_goals)\n",
    "    \n",
    "    db = pd.DataFrame(sdg.goals.values())\n",
    "    \n",
    "if __name__ == '__main__':\n",
    "    main()"
   ]
  }
 ],
 "metadata": {
  "kernelspec": {
   "display_name": "Python 3",
   "language": "python",
   "name": "python3"
  },
  "language_info": {
   "codemirror_mode": {
    "name": "ipython",
    "version": 3
   },
   "file_extension": ".py",
   "mimetype": "text/x-python",
   "name": "python",
   "nbconvert_exporter": "python",
   "pygments_lexer": "ipython3",
   "version": "3.8.5"
  }
 },
 "nbformat": 4,
 "nbformat_minor": 4
}
